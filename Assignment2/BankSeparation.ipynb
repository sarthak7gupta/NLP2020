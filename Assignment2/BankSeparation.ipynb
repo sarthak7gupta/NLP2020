{
 "cells": [
  {
   "cell_type": "code",
   "execution_count": 4,
   "metadata": {},
   "outputs": [],
   "source": [
    "import pandas as pd"
   ]
  },
  {
   "cell_type": "code",
   "execution_count": 5,
   "metadata": {},
   "outputs": [],
   "source": [
    "df=pd.read_csv(\"FinalTweetList.csv\", header=None)\n",
    "banks=set()\n",
    "for i in df[0]:\n",
    "    for j in i.split():\n",
    "        if j[0]=='@':\n",
    "            banks.add(j)\n",
    "banks=list(banks)\n",
    "banks.sort()\n",
    "#for i in banks:\n",
    "    #print(i)"
   ]
  },
  {
   "cell_type": "code",
   "execution_count": 6,
   "metadata": {},
   "outputs": [],
   "source": [
    "handles = {\n",
    "    \"Allahabad Bank\": [\"Allahabad_Bank\", \"allahabadbank4u\"], \n",
    "    \"Andhra bank\": [\"andhrabank\"], \n",
    "    \"Axis Bank\": [\"AvnishAxis\", \"Axi\", \"AxisBan\", \"AxisBank\", \"AxisBankOffers\", \"AxisBankSupport\", \"AxisDirect_In\", \"ask_AXIS\", \"axisbank\",  \"axisbank275\", \"axisbanksupport\"], \n",
    "    \"Bank of baroda\": [\"BankOfBaroda\",\"BankofBarodaCEO\",\"Bankofbaroda\",\"bankofbaroda\"], \n",
    "    \"Bank of india\": [\"Bankofindia_BOI\", \"bank_ofindia\"], \n",
    "    \"Bank of Maharashtra\": [\"bomrochd\"], \n",
    "    \"Banking Ombudsman\": [\"BankingOmbud\", \"bankingombusman\"], \n",
    "    \"Financial Ombudsman\": [\"financialombuds\"], \n",
    "    \"Canara bank\": [\"canarabanktweet\"], \n",
    "    \"Central bank\": [\"centralbank_in\"], \n",
    "    \"Citibank\":[\"Citi\", \"Citibank\", \"CitibankIN\"], \n",
    "    \"Corporation bank\": [\"CorpBanking\"], \n",
    "    \"DBS\": [\"digibank\"], \n",
    "    \"DCB bank\": [\"DCBBank\"], \n",
    "    \"DNS bank\": [\"DnsBank\"], \n",
    "    \"Federal bank\": [\"FederalBankLtd\"], \n",
    "    \"HDFC bank\": [\"HDFC\", \"AbheekHDFCBank\", \"HDFCBANK_Cares\", \"HDFCBankNews\", \"HDFCBank_Cares\", \"HDFCBank_Offers\", \"HDFCERGOGIC\", \"HDFCLIFE\",  \"HDFC_Ban\", \"HDFC_Bank\", \"HomeLoansByHDFC\", \"NeerajHDFCBank\", \"hdfc\", \"hdfcbank\", \"hdfcbank_cares\"], \n",
    "    \"HSBC\": [\"HSBC\", \"HSBC_IN\"], \n",
    "    \"ICICI bank\": [\"ICICIBANK\", \"ICICIBan\", \"ICICIBank\", \"ICICIBank_Car\", \"ICICIBank_Care\", \"ICICILombard\", \"ICICIPruLife\", \"ICICIPruMF\",  \"ICICI_Direct\", \"icicibank\", \"icicibank_care\"] , \n",
    "    \"IDBI bank\": [\"IDBI_Bank\"], \n",
    "    \"IDFC first bank\": [\"IDFC_Bank\"], \n",
    "    \"Indian overseas bank\": [\"Indianoverseasb\"], \n",
    "    \"Indusind bank\": [\"MyIndusIn\", \"MyIndusIndBank\"], \n",
    "    \"Karnataka bank\": [\"ktkbankltd\"], \n",
    "    \"Kotak bank\": [\"KotakBankL\", \"KotakBankLtd\", \"KotakIndia\", \"KotakJifi\", \"KotakbankLtd\", \"kotakbankltd\", \"kotaksecurities\", \"kotaksync\",  \"udaykotak\"], \n",
    "    \"Mobikwik\": [\"MobiKwik\"], \n",
    "    \"Nainital bank\": [\"nainitalbank\"], \n",
    "    \"NPCI\": [\"NPCI_NPCI\", \"UPI_NPCI\"], \n",
    "    \"Oriental bank\": [\"OrientalBank\"], \n",
    "    \"Paytm\": [\"Paytm\", \"paytm\",] , \n",
    "    \"PNB\": [\"Indiapnb\", \"PNBMetlife1\", \"mdpnb\", \"pnb\"], \n",
    "    \"Post office\": [\"IndiaPostOffice\", \"PostOfficeIndia\"], \n",
    "    \"RBI\": [\"RBI_India\", \"RBI\", \"RBIgovernor\", \"UrjitPatelRBI\", \"rbi\"], \n",
    "    \"Reliance\": [\"Reliance_MF\"], \n",
    "    \"Saraswat bank\": [\"SaraswatBank\"], \n",
    "    \"SBI\": [\"SBIBanks\", \"SBICard_Connect\", \"SBIofficial\", \"CareSBI\", \"TheOfficialSBI\", \"TheOfficialSBi\", \"sbi\", \"sbiINTOUCH\", \"sbi_india\",  \"sbicareers\", \"theofficialSBI\", \"theofficialsbi\", \"STATEBANK_CARES\"], \n",
    "    \"State bank of mysore\": [\"BankMysore\"], \n",
    "    \"SVC bank\": [\"SVC_Bank\"], \n",
    "    \"Syndicate bank\": [\"banksyndicate\"], \n",
    "    \"Tata capital\": [\"TataCompanies\"], \n",
    "    \"UCO bank\": [\"UCOBANKHO\", \"UCOBankCare\"], \n",
    "    \"Union bank\": [\"UnionBankTweets\", \"unionbankofIN\"], \n",
    "    \"Vijaya bank\": [\"VijayaBankIndia\"], \n",
    "    \"VISA\": [\"Visa_IND\"], \n",
    "    \"World bank\": [\"WorldBank\"], \n",
    "    \"Yes bank\": [\"YESBANK\", \"yesbank4\"]\n",
    "}\n",
    "\n",
    "for i in handles:\n",
    "    tweets = []\n",
    "    for j in handles[i]:\n",
    "        for k in range(len(df[0])):\n",
    "            if (\"@\" + j) in df[0][k]:\n",
    "                tweets.append([df[0][k], df[1][k]])\n",
    "    pd.DataFrame(tweets).to_csv(\"./banks/\"+i+\".csv\", index = False, header = False)"
   ]
  },
  {
   "cell_type": "code",
   "execution_count": null,
   "metadata": {},
   "outputs": [],
   "source": []
  },
  {
   "cell_type": "code",
   "execution_count": null,
   "metadata": {},
   "outputs": [],
   "source": []
  }
 ],
 "metadata": {
  "kernelspec": {
   "display_name": "Python 3",
   "language": "python",
   "name": "python3"
  },
  "language_info": {
   "codemirror_mode": {
    "name": "ipython",
    "version": 3
   },
   "file_extension": ".py",
   "mimetype": "text/x-python",
   "name": "python",
   "nbconvert_exporter": "python",
   "pygments_lexer": "ipython3",
   "version": "3.7.4"
  }
 },
 "nbformat": 4,
 "nbformat_minor": 2
}
