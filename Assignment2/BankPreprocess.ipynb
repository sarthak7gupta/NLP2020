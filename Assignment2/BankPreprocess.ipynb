{
 "cells": [
  {
   "cell_type": "code",
   "execution_count": 19,
   "metadata": {},
   "outputs": [],
   "source": [
    "import pandas as pd\n",
    "from operator import getitem\n",
    "import os\n",
    "from sklearn.model_selection import train_test_split"
   ]
  },
  {
   "cell_type": "code",
   "execution_count": 63,
   "metadata": {},
   "outputs": [],
   "source": [
    "#List all twitter handles mentioned\n",
    "\n",
    "df = pd.read_csv(\"FinalTweetList.csv\", header = None)\n",
    "banks = set()\n",
    "for i in df[0]:\n",
    "    for j in i.split():\n",
    "        if j[0] == '@':\n",
    "            banks.add(j)\n",
    "banks = list(banks)\n",
    "banks.sort()\n",
    "#for i in banks:\n",
    "    #print(i)"
   ]
  },
  {
   "cell_type": "code",
   "execution_count": 64,
   "metadata": {},
   "outputs": [
    {
     "data": {
      "text/plain": [
       "'\\nfor i in handles:\\n    tweets = []\\n    for j in handles[i]:\\n        for k in range(len(df[0])):\\n            if (\"@\" + j) in df[0][k]:\\n                tweets.append([df[0][k], df[1][k]])\\n    pd.DataFrame(tweets).to_csv(\"./banks/\" + i + \".csv\", index = False, header = False)\\n'"
      ]
     },
     "execution_count": 64,
     "metadata": {},
     "output_type": "execute_result"
    }
   ],
   "source": [
    "#Create seperate CSVs for each bank\n",
    "\n",
    "handles = {\n",
    "    \"Allahabad Bank\": [\"Allahabad_Bank\", \"allahabadbank4u\"], \n",
    "    \"Andhra Bank\": [\"andhrabank\"], \n",
    "    \"Axis Bank\": [\"AvnishAxis\", \"Axi\", \"AxisBan\", \"AxisBank\", \"AxisBankOffers\", \"AxisBankSupport\", \"AxisDirect_In\", \"ask_AXIS\", \"axisbank\",  \"axisbank275\", \"axisbanksupport\"], \n",
    "    \"Bank of Baroda\": [\"BankOfBaroda\",\"BankofBarodaCEO\",\"Bankofbaroda\",\"bankofbaroda\"], \n",
    "    \"Bank of India\": [\"Bankofindia_BOI\", \"bank_ofindia\"], \n",
    "    \"Bank of Maharashtra\": [\"bomrochd\"], \n",
    "    \"Banking Ombudsman\": [\"BankingOmbud\", \"bankingombusman\"], \n",
    "    \"Financial Ombudsman\": [\"financialombuds\"], \n",
    "    \"Canara Bank\": [\"canarabanktweet\"], \n",
    "    \"Central Bank\": [\"centralbank_in\"], \n",
    "    \"Citibank\":[\"Citi\", \"Citibank\", \"CitibankIN\"], \n",
    "    \"Corporation Bank\": [\"CorpBanking\"], \n",
    "    \"DBS Bank\": [\"digibank\"], \n",
    "    \"DCB Bank\": [\"DCBBank\"], \n",
    "    \"DNS Bank\": [\"DnsBank\"], \n",
    "    \"Federal Bank\": [\"FederalBankLtd\"], \n",
    "    \"HDFC Bank\": [\"HDFC\", \"AbheekHDFCBank\", \"HDFCBANK_Cares\", \"HDFCBankNews\", \"HDFCBank_Cares\", \"HDFCBank_Offers\", \"HDFCERGOGIC\", \"HDFCLIFE\",  \"HDFC_Ban\", \"HDFC_Bank\", \"HomeLoansByHDFC\", \"NeerajHDFCBank\", \"hdfc\", \"hdfcbank\", \"hdfcbank_cares\"], \n",
    "    \"HSBC\": [\"HSBC\", \"HSBC_IN\"], \n",
    "    \"ICICI Bank\": [\"ICICIBANK\", \"ICICIBan\", \"ICICIBank\", \"ICICIBank_Car\", \"ICICIBank_Care\", \"ICICILombard\", \"ICICIPruLife\", \"ICICIPruMF\",  \"ICICI_Direct\", \"icicibank\", \"icicibank_care\"] , \n",
    "    \"IDBI Bank\": [\"IDBI_Bank\"], \n",
    "    \"IDFC First Bank\": [\"IDFC_Bank\"], \n",
    "    \"Indian Overseas Bank\": [\"Indianoverseasb\"], \n",
    "    \"IndusInd Bank\": [\"MyIndusIn\", \"MyIndusIndBank\"], \n",
    "    \"Karnataka Bank\": [\"ktkbankltd\"], \n",
    "    \"Kotak Bank\": [\"KotakBankL\", \"KotakBankLtd\", \"KotakIndia\", \"KotakJifi\", \"KotakbankLtd\", \"kotakbankltd\", \"kotaksecurities\", \"kotaksync\",  \"udaykotak\"], \n",
    "    \"MobiKwik\": [\"MobiKwik\"], \n",
    "    \"Nainital Bank\": [\"nainitalbank\"], \n",
    "    \"National Payments Corporation of India\": [\"NPCI_NPCI\", \"UPI_NPCI\"], \n",
    "    \"Oriental Bank\": [\"OrientalBank\"], \n",
    "    \"PayTM\": [\"Paytm\", \"paytm\",] , \n",
    "    \"Punjab National Bank\": [\"Indiapnb\", \"PNBMetlife1\", \"mdpnb\", \"pnb\"], \n",
    "    \"Post Office\": [\"IndiaPostOffice\", \"PostOfficeIndia\"], \n",
    "    \"Reserve Bank of India\": [\"RBI_India\", \"RBI\", \"RBIgovernor\", \"UrjitPatelRBI\", \"rbi\"], \n",
    "    \"Reliance\": [\"Reliance_MF\"], \n",
    "    \"Saraswat Bank\": [\"SaraswatBank\"], \n",
    "    \"State Bank of India\": [\"SBIBanks\", \"SBICard_Connect\", \"SBIofficial\", \"CareSBI\", \"TheOfficialSBI\", \"TheOfficialSBi\", \"sbi\", \"sbiINTOUCH\", \"sbi_india\",  \"sbicareers\", \"theofficialSBI\", \"theofficialsbi\", \"STATEBANK_CARES\"], \n",
    "    \"State Bank of Mysore\": [\"BankMysore\"], \n",
    "    \"SVC Bank\": [\"SVC_Bank\"], \n",
    "    \"Syndicate Bank\": [\"banksyndicate\"], \n",
    "    \"Tata Capital\": [\"TataCompanies\"], \n",
    "    \"UCO Bank\": [\"UCOBANKHO\", \"UCOBankCare\"], \n",
    "    \"Union Bank of India\": [\"UnionBankTweets\", \"unionbankofIN\"], \n",
    "    \"Vijaya Bank\": [\"VijayaBankIndia\"], \n",
    "    \"Visa\": [\"Visa_IND\"], \n",
    "    \"World Bank\": [\"WorldBank\"], \n",
    "    \"Yes Bank\": [\"YESBANK\", \"yesbank4\"]\n",
    "}\n",
    "\n",
    "'''\n",
    "for i in handles:\n",
    "    tweets = []\n",
    "    for j in handles[i]:\n",
    "        for k in range(len(df[0])):\n",
    "            if (\"@\" + j) in df[0][k]:\n",
    "                tweets.append([df[0][k], df[1][k]])\n",
    "    pd.DataFrame(tweets).to_csv(\"./banks/\" + i + \".csv\", index = False, header = False)\n",
    "'''"
   ]
  },
  {
   "cell_type": "code",
   "execution_count": 22,
   "metadata": {},
   "outputs": [
    {
     "name": "stdout",
     "output_type": "stream",
     "text": [
      "                            ICICI Bank:  29.88% in 3976 tweets\n",
      "                             HDFC Bank:  32.54% in 2795 tweets\n",
      "                             Axis Bank:  33.50% in 2615 tweets\n",
      "                   State Bank of India:  31.37% in 2526 tweets\n",
      "                            Kotak Bank:  36.51% in 1453 tweets\n",
      "                 Reserve Bank of India:  26.58% in  506 tweets\n",
      "                        Bank of Baroda:  33.51% in  276 tweets\n",
      "                  Punjab National Bank:  44.74% in   38 tweets\n",
      "                              Yes Bank:  44.59% in   37 tweets\n",
      "                         IndusInd Bank:  30.00% in   25 tweets\n",
      "                             IDBI Bank:  43.18% in   22 tweets\n",
      "                              Citibank:  29.55% in   22 tweets\n",
      "                         Bank of India:  27.27% in   11 tweets\n",
      "                                 PayTM:  38.89% in    9 tweets\n",
      "                           Vijaya Bank:  50.00% in    7 tweets\n",
      "                           Canara Bank:  58.33% in    6 tweets\n",
      "                           Post Office:  50.00% in    5 tweets\n",
      "                   Union Bank of India:  30.00% in    5 tweets\n",
      "                      Corporation Bank:  20.00% in    5 tweets\n",
      "                        Allahabad Bank:  62.50% in    4 tweets\n",
      "National Payments Corporation of India:  50.00% in    4 tweets\n",
      "                              UCO Bank:  25.00% in    4 tweets\n",
      "                     Banking Ombudsman:  12.50% in    4 tweets\n",
      "                         Oriental Bank:  66.67% in    3 tweets\n",
      "                          Federal Bank:  50.00% in    3 tweets\n",
      "                                  HSBC:  50.00% in    3 tweets\n",
      "                          Central Bank:   0.00% in    3 tweets\n",
      "                              MobiKwik:  75.00% in    2 tweets\n",
      "                   Bank of Maharashtra:  50.00% in    2 tweets\n",
      "                       IDFC First Bank:  50.00% in    2 tweets\n",
      "                  Indian Overseas Bank:  50.00% in    2 tweets\n",
      "                            World Bank:  50.00% in    2 tweets\n",
      "                              DCB Bank:   0.00% in    2 tweets\n",
      "                           Andhra Bank: 100.00% in    1 tweets\n",
      "                              DBS Bank: 100.00% in    1 tweets\n",
      "                              DNS Bank:  50.00% in    1 tweets\n",
      "                        Karnataka Bank:  50.00% in    1 tweets\n",
      "                         Saraswat Bank:  50.00% in    1 tweets\n",
      "                              SVC Bank:  50.00% in    1 tweets\n",
      "                          Tata Capital:  50.00% in    1 tweets\n",
      "                   Financial Ombudsman:   0.00% in    1 tweets\n",
      "                         Nainital Bank:   0.00% in    1 tweets\n",
      "                              Reliance:   0.00% in    1 tweets\n",
      "                  State Bank of Mysore:   0.00% in    1 tweets\n",
      "                        Syndicate Bank:   0.00% in    1 tweets\n",
      "                                  Visa:   0.00% in    1 tweets\n"
     ]
    }
   ],
   "source": [
    "#Calculate performance index percentage based on original labels\n",
    "\n",
    "values = {\n",
    "    \"compliment\": 1,\n",
    "    \"miscellaneous\": 0.5,\n",
    "    \"displeasure\": 0\n",
    "}\n",
    "\n",
    "results = {}\n",
    "\n",
    "direc = os.fsencode('./banks')\n",
    "for File in os.listdir(direc):\n",
    "    filename = os.fsdecode(File)\n",
    "    tweets = pd.read_csv(\"./banks/\" + filename, header = None).iloc[:, 1]\n",
    "    sum = 0\n",
    "    for i in tweets:\n",
    "        sum += values[i]\n",
    "    result = {}\n",
    "    result['performance_index'] = sum * 100 / len(tweets)\n",
    "    result['tweets'] = len(tweets)\n",
    "    results[filename[:-4]] = result\n",
    "    \n",
    "for i in sorted(results.items(), key = lambda x: ( -(getitem(x[1],'tweets')), -(getitem(x[1],'performance_index')) )):\n",
    "    print((i[0] + \": \").rjust(40) + (\"{:.2f}\".format(i[1]['performance_index'])).rjust(6) + \"% in \" + str(i[1]['tweets']).rjust(4) + \" tweets\")\n",
    "    \n",
    "#Toppers are:\n",
    "    #1. Kotak Bank: 36.51%\n",
    "    #2. Axis Bank: 33.50%\n",
    "    #3. HDFC Bank: 32.54%\n",
    "    #4. State Bank of India: 31.37%\n",
    "    #5. ICICI Bank: 29.88%"
   ]
  },
  {
   "cell_type": "code",
   "execution_count": 17,
   "metadata": {
    "scrolled": true
   },
   "outputs": [],
   "source": [
    "#create test set with 500 tweets from each bank and remaining train\n",
    "train = pd.DataFrame()\n",
    "direc = os.fsencode('./banks')\n",
    "for File in os.listdir(direc):\n",
    "    filename = os.fsdecode(File)\n",
    "    train_set = pd.read_csv(\"./banks/\" + filename, header = None)\n",
    "    test_set = pd.DataFrame()\n",
    "    if len(train_set) > 1:\n",
    "        train_set, test_set = train_test_split(train_set, test_size = 500 if len(train_set) > 1000 else 0.5, random_state = 21)\n",
    "    train = train.append(train_set)\n",
    "    test_set.to_csv(\"./test/\" + filename, index = False, header = False)\n",
    "\n",
    "train.to_csv(\"FinalTweetList_train.csv\", index = False, header = False)\n",
    "    "
   ]
  },
  {
   "cell_type": "code",
   "execution_count": null,
   "metadata": {},
   "outputs": [],
   "source": []
  }
 ],
 "metadata": {
  "kernelspec": {
   "display_name": "Python 3",
   "language": "python",
   "name": "python3"
  },
  "language_info": {
   "codemirror_mode": {
    "name": "ipython",
    "version": 3
   },
   "file_extension": ".py",
   "mimetype": "text/x-python",
   "name": "python",
   "nbconvert_exporter": "python",
   "pygments_lexer": "ipython3",
   "version": "3.7.4"
  }
 },
 "nbformat": 4,
 "nbformat_minor": 2
}
