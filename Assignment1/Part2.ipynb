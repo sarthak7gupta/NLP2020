{
 "cells": [
  {
   "cell_type": "code",
   "execution_count": null,
   "metadata": {},
   "outputs": [],
   "source": [
    "from nltk.corpus import inaugural\n",
    "from textblob import TextBlob\n",
    "from textblob.taggers import NLTKTagger\n",
    "from wordcloud import WordCloud, ImageColorGenerator\n",
    "import matplotlib.pyplot as plt\n",
    "import numpy as np\n",
    "from PIL import Image\n",
    "from os import path\n",
    "import os\n",
    "from scipy.ndimage import gaussian_gradient_magnitude"
   ]
  },
  {
   "cell_type": "code",
   "execution_count": null,
   "metadata": {},
   "outputs": [],
   "source": [
    "text = inaugural.raw(fileids=inaugural.fileids()[-5:])\n",
    "\n",
    "nltk_tagger = NLTKTagger()\n",
    "blob = TextBlob(text, pos_tagger=nltk_tagger)\n",
    "nouns=' '.join([i for i,j in blob.pos_tags if j in ['NN','NNS','NNP','NNPS']])\n",
    "adjectives=' '.join([i for i,j in blob.pos_tags if j in ['JJ','JJR','JJS']])"
   ]
  },
  {
   "cell_type": "code",
   "execution_count": null,
   "metadata": {},
   "outputs": [],
   "source": [
    "n=\"inf\"\n",
    "fname=\"flag\"\n",
    "words=adjectives\n",
    "d = os.path.dirname(__file__) if \"__file__\" in locals() else os.getcwd()\n",
    "\n",
    "mask = np.array(Image.open(os.path.join(d, fname+\".png\")))\n",
    "edges = np.mean([gaussian_gradient_magnitude(mask[:, :, i] / 255., 2) for i in range(3)], axis=0)\n",
    "mask[edges > .08] = 255\n",
    "\n",
    "wc = WordCloud(mask=mask, random_state=21)#, max_font_size=n\n",
    "wc.generate(words)\n",
    "\n",
    "image_colors = ImageColorGenerator(mask)\n",
    "wc.recolor(color_func=image_colors)\n",
    "\n",
    "plt.axis(\"off\")\n",
    "plt.imshow(wc, interpolation=\"bilinear\")\n",
    "plt.show()\n",
    "wc.to_file(fname+str(n)+\".png\")\n",
    "\n",
    "plt.axis(\"off\")\n",
    "plt.imshow(mask)\n",
    "plt.show()"
   ]
  }
 ],
 "metadata": {
  "kernelspec": {
   "display_name": "Python 3",
   "language": "python",
   "name": "python3"
  },
  "language_info": {
   "codemirror_mode": {
    "name": "ipython",
    "version": 3
   },
   "file_extension": ".py",
   "mimetype": "text/x-python",
   "name": "python",
   "nbconvert_exporter": "python",
   "pygments_lexer": "ipython3",
   "version": "3.7.4"
  }
 },
 "nbformat": 4,
 "nbformat_minor": 2
}
