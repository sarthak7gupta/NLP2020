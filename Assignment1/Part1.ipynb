{
 "cells": [
  {
   "cell_type": "code",
   "execution_count": null,
   "metadata": {},
   "outputs": [],
   "source": [
    "#%%\n",
    "\n",
    "from collections import Counter\n",
    "import re\n",
    "\n",
    "import matplotlib.pyplot as plt\n",
    "import numpy as np\n",
    "from nltk import pos_tag\n",
    "from nltk.corpus import inaugural, stopwords\n",
    "from nltk.stem import PorterStemmer\n",
    "from nltk.tokenize import sent_tokenize, word_tokenize\n",
    "from PIL import Image\n",
    "from wordcloud import ImageColorGenerator, WordCloud"
   ]
  },
  {
   "cell_type": "code",
   "execution_count": null,
   "metadata": {},
   "outputs": [],
   "source": [
    "#%%\n",
    "\n",
    "ps = PorterStemmer()\n",
    "stop_words = set(stopwords.words('english'))\n",
    "speech_ids = inaugural.fileids()[-5:]"
   ]
  },
  {
   "cell_type": "code",
   "execution_count": null,
   "metadata": {},
   "outputs": [],
   "source": [
    "#%% Extract the raw text from the latest 5 speeches\n",
    "\n",
    "a = raw_speeches = inaugural.raw(fileids=speech_ids)\n",
    "\n",
    "print(a)"
   ]
  },
  {
   "cell_type": "code",
   "execution_count": null,
   "metadata": {},
   "outputs": [],
   "source": [
    "#%% Tokenize the raw text of these speeches into sentences\n",
    "\n",
    "b = speeches_sentence_tokens = sent_tokenize(raw_speeches)\n",
    "\n",
    "print(b)"
   ]
  },
  {
   "cell_type": "code",
   "execution_count": null,
   "metadata": {},
   "outputs": [],
   "source": [
    "#%% Tokenize the each sentence into words\n",
    "\n",
    "c = speeches_word_tokens = word_tokenize(raw_speeches)\n",
    "\n",
    "print(c)"
   ]
  },
  {
   "cell_type": "code",
   "execution_count": null,
   "metadata": {},
   "outputs": [],
   "source": [
    "#%% From the tokenized sentences, generate new sentence which is the sentence formed by removing the stop-words as well as stemming each word in the sentence.\n",
    "\n",
    "speeches_filtered_words = filter(lambda x: x not in stop_words, speeches_word_tokens)\n",
    "\n",
    "d = speeches_stemmed_filtered_words = ' '.join(map(ps.stem, speeches_filtered_words))\n",
    "\n",
    "print(d)"
   ]
  },
  {
   "cell_type": "code",
   "execution_count": null,
   "metadata": {},
   "outputs": [],
   "source": [
    "#%% Tokenize the new sentence in D into words.\n",
    "\n",
    "e = speeches_stemmed_filtered_word_tokens = word_tokenize(d)\n",
    "\n",
    "print(e)"
   ]
  },
  {
   "cell_type": "code",
   "execution_count": null,
   "metadata": {},
   "outputs": [],
   "source": [
    "#%% Make separate Word Clouds of the words in C and words in E.\n",
    "\n",
    "def wm(i, o):\n",
    "\twordcloud_word_tokens = WordCloud(stopwords=set(), background_color=\"white\", max_words=1000).generate(i)\n",
    "\tplt.figure(figsize=[7, 7])\n",
    "\tplt.imshow(wordcloud_word_tokens, interpolation=\"bilinear\")\n",
    "\tplt.axis(\"off\")\n",
    "\tplt.savefig(f\"{o}.png\", format=\"png\")\n",
    "\tplt.show()\n",
    "\treturn wordcloud_word_tokens\n",
    "\n",
    "# def wm(i, o):\n",
    "# \tmask = np.array(Image.open(\"usa.png\"))\n",
    "# \twordcloud_word_tokens = WordCloud(stopwords=stop_words, background_color=\"white\", max_words=1000, mask=mask).generate(i)\n",
    "# \timage_colors = ImageColorGenerator(mask)\n",
    "# \tplt.figure(figsize=[7, 7])\n",
    "# \tplt.imshow(wordcloud_word_tokens.recolor(color_func=image_colors), interpolation=\"bilinear\")\n",
    "# \tplt.axis(\"off\")\n",
    "# \tplt.savefig(f\"{o}.png\", format=\"png\")\n",
    "# \tplt.show()\n",
    "# \treturn wordcloud_word_tokens\n",
    "\n",
    "f = wm(' '.join(c), 'c'), wm(' '.join(e), 'e')"
   ]
  },
  {
   "cell_type": "code",
   "execution_count": null,
   "metadata": {},
   "outputs": [],
   "source": [
    "g = '''\n",
    "    From the above word clouds, it is apparent that stopwords are, by far, the most commonly occurring \n",
    "    words in most corpora. Thus, they do not appear in the word cloud of e, compared to that of c.\n",
    "    Also, stemming helps remove redundant forms of the same base word with different morphological\n",
    "    inflections. Thus, less frequent different forms of the same words in c appear more frequent in the\n",
    "    word cloud of e, indicating that stemming gives a better insight into the true distribution of words.\n",
    "'''"
   ]
  },
  {
   "cell_type": "code",
   "execution_count": null,
   "metadata": {},
   "outputs": [],
   "source": [
    "#%% Using POS tagging identify the frequency distribution of the different parts of speech of the words given in the text. (Use PennTree Tagset). Identify and represent the distribution via suitable visualization technique.\n",
    "\n",
    "pos_tags = pos_tag(e)\n",
    "\n",
    "h = freq_pos_tags = Counter(map(lambda x: x[1], pos_tags))\n",
    "\n",
    "plt.bar(*zip(*freq_pos_tags.items()))\n",
    "plt.xticks(rotation=60, fontsize=7.5)\n",
    "plt.show()"
   ]
  },
  {
   "cell_type": "code",
   "execution_count": null,
   "metadata": {},
   "outputs": [],
   "source": [
    "#%% Each sentence can be scored as the sum of frequencies of individual words (excluding stop words). Identify the top 5 sentences based on this score.\n",
    "\n",
    "freq_word_tokens = Counter(speeches_word_tokens)\n",
    "\n",
    "i = top_sentences_freq_score = sorted(speeches_sentence_tokens, key=lambda sentence: sum(freq_word_tokens[word] for word in sentence if word not in stop_words), reverse=True)[:5]\n",
    "\n",
    "print(i)"
   ]
  },
  {
   "cell_type": "code",
   "execution_count": null,
   "metadata": {},
   "outputs": [],
   "source": [
    "#%% With the help of regular expressions, extract the words in E that have either numbers or other non-‐alphabetic characters.\n",
    "\n",
    "r = re.compile(r'[^a-zA-Z]+')\n",
    "\n",
    "j = non_alpha_containing_words = list(filter(r.search, e))\n",
    "\n",
    "print(j)"
   ]
  },
  {
   "cell_type": "code",
   "execution_count": null,
   "metadata": {},
   "outputs": [],
   "source": []
  }
 ],
 "metadata": {
  "kernelspec": {
   "display_name": "Python 3",
   "language": "python",
   "name": "python3"
  },
  "language_info": {
   "codemirror_mode": {
    "name": "ipython",
    "version": 3
   },
   "file_extension": ".py",
   "mimetype": "text/x-python",
   "name": "python",
   "nbconvert_exporter": "python",
   "pygments_lexer": "ipython3",
   "version": "3.7.4"
  }
 },
 "nbformat": 4,
 "nbformat_minor": 2
}
